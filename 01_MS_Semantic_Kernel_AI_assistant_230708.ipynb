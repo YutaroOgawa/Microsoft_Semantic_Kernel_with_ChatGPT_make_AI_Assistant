{
  "nbformat": 4,
  "nbformat_minor": 0,
  "metadata": {
    "colab": {
      "provenance": [],
      "toc_visible": true
    },
    "kernelspec": {
      "name": "python3",
      "display_name": "Python 3"
    },
    "language_info": {
      "name": "python"
    }
  },
  "cells": [
    {
      "cell_type": "markdown",
      "source": [
        "Qiitaでの連載「MS Semantic Kernelを用いたAIアシスタントの作り方（ChatGPT、GPT-4版）」（第1回）の実装コード\n",
        "===================\n",
        "\n",
        "\n",
        "\n",
        "**概要**\n",
        "\n",
        "なし\n",
        "\n",
        "<br>\n",
        "\n",
        "**実装者**：小川 雄太郎\n",
        "\n",
        "**実装日**: 2023年07月08日\n",
        "\n",
        "**実行環境**: Google Colab\n",
        "\n",
        "---"
      ],
      "metadata": {
        "id": "rF2kgx1mNoPr"
      }
    },
    {
      "cell_type": "markdown",
      "source": [
        "第1回記事へのリンク\n",
        "\n",
        "- [MS Semantic Kernelを用いたAIアシスタントの作り方（ChatGPT、GPT-4版）【連載第1回】](https://qiita.com/YutaroOgawa2/items/87cf07110255c06a4aa9)\n",
        "\n",
        "\n",
        "連載第1回に実装部分はございません。"
      ],
      "metadata": {
        "id": "6pLFLQIaTioh"
      }
    },
    {
      "cell_type": "markdown",
      "source": [
        "# 以上"
      ],
      "metadata": {
        "id": "_Jj32Xvd1S8A"
      }
    }
  ]
}